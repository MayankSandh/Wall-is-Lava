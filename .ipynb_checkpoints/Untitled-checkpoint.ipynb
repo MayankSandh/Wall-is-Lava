{
 "cells": [
  {
   "cell_type": "code",
   "execution_count": 3,
   "id": "9f527b5d-0c7c-4481-bba2-3a1077af16ac",
   "metadata": {},
   "outputs": [],
   "source": [
    "import os\n",
    "from stable_baselines3 import PPO\n",
    "from new_env import *"
   ]
  },
  {
   "cell_type": "code",
   "execution_count": 4,
   "id": "3785adbe-dce4-49e9-be7a-db1bbbeb8512",
   "metadata": {},
   "outputs": [],
   "source": [
    "Log_path = os.path.join(\"Training\", \"Logs\")\n",
    "PPO_path = os.path.join(\"Training\", \"Saved_models\")"
   ]
  },
  {
   "cell_type": "code",
   "execution_count": 5,
   "id": "4cf244b8-3d53-4ddd-9a89-777b2dddab1c",
   "metadata": {},
   "outputs": [
    {
     "ename": "SyntaxError",
     "evalue": "expression cannot contain assignment, perhaps you meant \"==\"? (3519319181.py, line 2)",
     "output_type": "error",
     "traceback": [
      "\u001b[1;36m  Cell \u001b[1;32mIn[5], line 2\u001b[1;36m\u001b[0m\n\u001b[1;33m    model = PPO('MlpPolicy', env, verbose=1, tensorboard>log=Log_path)\u001b[0m\n\u001b[1;37m                                             ^\u001b[0m\n\u001b[1;31mSyntaxError\u001b[0m\u001b[1;31m:\u001b[0m expression cannot contain assignment, perhaps you meant \"==\"?\n"
     ]
    }
   ],
   "source": [
    "env = CustomEnv()\n",
    "model = PPO('MlpPolicy', env, verbose=1, tensorboard_log=Log_path)"
   ]
  },
  {
   "cell_type": "code",
   "execution_count": null,
   "id": "da02c100-8c4f-4a48-bc2d-dbd4209a6c46",
   "metadata": {},
   "outputs": [],
   "source": []
  }
 ],
 "metadata": {
  "kernelspec": {
   "display_name": "Python 3 (ipykernel)",
   "language": "python",
   "name": "python3"
  },
  "language_info": {
   "codemirror_mode": {
    "name": "ipython",
    "version": 3
   },
   "file_extension": ".py",
   "mimetype": "text/x-python",
   "name": "python",
   "nbconvert_exporter": "python",
   "pygments_lexer": "ipython3",
   "version": "3.11.5"
  }
 },
 "nbformat": 4,
 "nbformat_minor": 5
}
